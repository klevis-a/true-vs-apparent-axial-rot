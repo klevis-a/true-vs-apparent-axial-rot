{
 "cells": [
  {
   "cell_type": "code",
   "execution_count": null,
   "metadata": {},
   "outputs": [],
   "source": [
    "# Jupyter seems to set the working directory to the parent of folder of the notebook so go up two levels\n",
    "# this is necessary to have access to the axial_rot_analysis package\n",
    "\n",
    "import os\n",
    "os.chdir('../..')\n",
    "import distutils.util\n",
    "import quaternion as q\n",
    "import numpy as np\n",
    "from pathlib import Path\n",
    "import plotly.graph_objects as go\n",
    "from true_vs_apparent.common.database import create_db, BiplaneViconSubject\n",
    "from true_vs_apparent.common.json_utils import get_params\n",
    "from true_vs_apparent.common.analysis_utils import get_trajs, analyze_up_down, prepare_db\n",
    "\n",
    "\n",
    "# initialize\n",
    "config_dir = Path(r'C:\\Users\\klevis\\Desktop\\Repositories\\axialAnalysis\\config')\n",
    "params = get_params(config_dir / 'parameters.json')\n",
    "\n",
    "# ready db\n",
    "db = create_db(params.biplane_vicon_db_dir, BiplaneViconSubject)\n",
    "if params.excluded_trials:\n",
    "    db = db[~db['Trial_Name'].str.contains('|'.join(params.excluded_trials))]\n",
    "db = db.loc[[params.trial_name]]\n",
    "\n",
    "# relevant parameters\n",
    "use_ac = bool(distutils.util.strtobool(params.use_ac))\n",
    "\n",
    "# compute min and max ht elevation for each subject\n",
    "db['ht'], db['gh'], db['st'] = zip(*db['Trial'].apply(get_trajs, args=[db.attrs['dt'], params.torso_def, use_ac]))\n",
    "db['up_down_analysis'] = db['ht'].apply(analyze_up_down)\n",
    "prepare_db(db, params.torso_def, use_ac, params.dtheta_fine, params.dtheta_coarse, [params.min_elev, params.max_elev],\n",
    "           should_fill=False, should_clean=False)\n",
    "db_row = db.loc[params.trial_name]"
   ]
  },
  {
   "cell_type": "code",
   "execution_count": null,
   "metadata": {
    "pycharm": {
     "name": "#%%\n"
    }
   },
   "outputs": [],
   "source": [
    "def create_axes():\n",
    "    return [\n",
    "        go.Scatter3d(x=[0, 1], y=[0, 0], z=[0, 0], mode='lines', line=dict(color='red', width=2), hoverinfo='none',\n",
    "                     showlegend=False),\n",
    "        go.Cone(x=[1], y=[0], z=[0], u=[0.25], v=[0], w=[0], colorscale=[[0, 'red'], [1, 'red']], showscale=False,\n",
    "                anchor='tip', showlegend=False),\n",
    "        go.Scatter3d(x=[0, 0], y=[0, 1], z=[0, 0], mode='lines', line=dict(color='green', width=2), hoverinfo='none',\n",
    "                     showlegend=False),\n",
    "        go.Cone(x=[0], y=[1], z=[0], u=[0], v=[0.25], w=[0], colorscale=[[0, 'green'], [1, 'green']], showscale=False,\n",
    "                anchor='tip', showlegend=False),\n",
    "        go.Scatter3d(x=[0, 0], y=[0, 0], z=[0, 1], mode='lines', line=dict(color='blue', width=2), hoverinfo='none',\n",
    "                     showlegend=False),\n",
    "        go.Cone(x=[0], y=[0], z=[1], u=[0], v=[0], w=[0.25], colorscale=[[0, 'blue'], [1, 'blue']], showscale=False,\n",
    "                anchor='tip', showlegend=False)]\n"
   ]
  },
  {
   "cell_type": "code",
   "execution_count": null,
   "outputs": [],
   "source": [
    "def create_sphere_phadke(r=1, num_divisions=11):\n",
    "    # this is a generic globe with the poles pointing at +-x, the latitude and longitude below (although they are\n",
    "    # related to) are not the same as elevation and plane of elevation\n",
    "    # r should be 1, but for a publication figure I set it to slightly larger than 1 to enhance the color contrast\n",
    "\n",
    "    # u is longitude degree\n",
    "    # v is latitude degree\n",
    "    u_lin = np.linspace(0, np.pi, num_divisions)\n",
    "    v_lin = np.linspace(0, np.pi, num_divisions)\n",
    "    broadcast_u = np.ones_like(u_lin)\n",
    "    u, v = np.meshgrid(u_lin, v_lin)\n",
    "    u = u.flatten()\n",
    "    v = v.flatten()\n",
    "    z = np.sin(u) * np.sin(v) * r\n",
    "    x = np.cos(v) * r\n",
    "    y = np.cos(u)*np.sin(v) * r\n",
    "\n",
    "    lat_long_c = ['white'] * num_divisions\n",
    "    lat_long_c[5] = 'grey'\n",
    "    latitudes = [go.Scatter3d(x=broadcast_u * np.cos(lat) * r, y=np.cos(u_lin) * np.sin(lat) * r,\n",
    "                              z=np.sin(u_lin) * np.sin(lat) * r, mode='lines', line=dict(color=lat_long_c[idx], width=2),\n",
    "                              hoverinfo='none', showlegend=False) for idx, lat in enumerate(v_lin)]\n",
    "    longitudes = [go.Scatter3d(x=np.cos(v_lin) * r, y=np.cos(long)*np.sin(v_lin) * r, z=np.sin(long)*np.sin(v_lin) * r,\n",
    "                               mode='lines', line=dict(color=lat_long_c[idx], width=2), hoverinfo='none',\n",
    "                               showlegend=False) for idx, long in enumerate(u_lin)]\n",
    "    globe = go.Mesh3d(x=x, y=y, z=z, alphahull=0, opacity=0.2, color='cyan', hoverinfo='none', showlegend=False)\n",
    "    return latitudes + longitudes + [globe]"
   ],
   "metadata": {
    "collapsed": false,
    "pycharm": {
     "name": "#%%\n"
    }
   }
  },
  {
   "cell_type": "code",
   "execution_count": null,
   "outputs": [],
   "source": [
    "def create_sphere_isb(r=1, num_divisions=11):\n",
    "    u_lin = np.linspace(-np.pi/2, np.pi/2, num_divisions)\n",
    "    v_lin = np.linspace(0, np.pi, num_divisions)\n",
    "    broadcast_u = np.ones_like(u_lin)\n",
    "    u,v = np.meshgrid(u_lin, v_lin)\n",
    "    u = u.flatten()\n",
    "    v = v.flatten()\n",
    "    x = np.sin(u) * np.sin(v) * r\n",
    "    y = np.cos(v) * r\n",
    "    z = np.cos(u) * np.sin(v) * r\n",
    "\n",
    "    lat_long_c = ['white'] * num_divisions\n",
    "    lat_long_c[5] = 'grey'\n",
    "    latitudes = [go.Scatter3d(x=np.sin(u_lin)*np.sin(lat) * r, y=broadcast_u * np.cos(lat) * r,\n",
    "                              z=np.cos(u_lin) * np.sin(lat) * r, mode='lines', line=dict(color=lat_long_c[idx], width=2),\n",
    "                              hoverinfo='none', showlegend=False) for idx, lat in enumerate(v_lin)]\n",
    "    longitudes = [go.Scatter3d(x=np.sin(long) * np.sin(v_lin) * r, y=np.cos(v_lin) * r, z=np.cos(long)*np.sin(v_lin) * r,\n",
    "                               mode='lines', line=dict(color=lat_long_c[idx], width=2), hoverinfo='none',\n",
    "                               showlegend=False) for idx, long in enumerate(u_lin)]\n",
    "    globe = go.Mesh3d(x=x, y=y, z=z, alphahull=0, opacity=0.2, color='cyan', hoverinfo='none', showlegend=False)\n",
    "    return latitudes + longitudes + [globe]"
   ],
   "metadata": {
    "collapsed": false,
    "pycharm": {
     "name": "#%%\n"
    }
   }
  },
  {
   "cell_type": "code",
   "execution_count": null,
   "metadata": {
    "pycharm": {
     "name": "#%%\n"
    }
   },
   "outputs": [],
   "source": [
    "def decomp_line_phadke(num_div=11):\n",
    "    # the xy'z'' decomposition path from the start to end point is: 1) maintain elevation and go to zero PoE 2) raise arm\n",
    "    # to final elevation angle 3) go to final PoE\n",
    "    phadke_poe_traj = np.concatenate((np.linspace(poe_rec[0], 0, num_div), np.zeros((num_div,)),\n",
    "                                      np.linspace(0, poe_rec[-1], num_div)))\n",
    "    phadke_elev_traj = np.concatenate((np.ones((11,))*elev_rec[0], np.linspace(elev_rec[0], elev_rec[-1], num_div),\n",
    "                                       np.ones((11,))*elev_rec[-1]))\n",
    "    x_unit = np.array([1, 0, 0])\n",
    "    z_unit = np.array([0, 0, 1])\n",
    "\n",
    "    # easiest way of computing the path of the humeral axis (not to involve too much trig thinking), is to compute the\n",
    "    # entire rotation matrix and extract just the y-axis\n",
    "    phadke_traj_quat = [q.from_rotation_vector(x_unit * elev) * q.from_rotation_vector(z_unit * poe) for (elev, poe)\n",
    "                        in zip(phadke_elev_traj, phadke_poe_traj)]\n",
    "    phadke_traj_rotm = q.as_rotation_matrix(np.stack(phadke_traj_quat, axis=0))\n",
    "    phadke_hum_axis = -phadke_traj_rotm[:, :, 1]\n",
    "    phadke_x_traj = phadke_hum_axis[:, 0]\n",
    "    phadke_y_traj = phadke_hum_axis[:, 1]\n",
    "    phadke_z_traj = phadke_hum_axis[:, 2]\n",
    "    return go.Scatter3d(name=\"xz'y''\", x=phadke_x_traj, y=phadke_y_traj, z=phadke_z_traj, mode='lines',\n",
    "                               line=dict(color='brown', width=6))"
   ]
  },
  {
   "cell_type": "code",
   "execution_count": null,
   "outputs": [],
   "source": [
    "def decomp_line_isb(num_div=11):\n",
    "    # the yx'y'' decomposition path from the start to end point is: 1) from starting point go back to zero\n",
    "    # 2) go to final orientation. There is the hidden caveat that since establishing the PoE counts as axial rotation\n",
    "    # this must be included in the final computation\n",
    "    isb_poe_traj = np.concatenate((np.ones((num_div,))*poe_rec[0], np.zeros((1,)), np.ones((num_div,))*poe_rec[-1]))\n",
    "    isb_elev_traj = np.concatenate((np.linspace(elev_rec[0], 0, num_div), np.zeros((1,)), np.linspace(0, elev_rec[-1], num_div)))\n",
    "    x_unit = np.array([1, 0, 0])\n",
    "    y_unit = np.array([0, 1, 0])\n",
    "\n",
    "    # easiest way of computing the path of the humeral axis (not to involve too much trig thinking), is to compute the\n",
    "    # entire rotation matrix and extract just the y-axis\n",
    "    isb_traj_quat = [q.from_rotation_vector(y_unit * poe) * q.from_rotation_vector(x_unit * elev) for (poe, elev)\n",
    "                        in zip(isb_poe_traj, isb_elev_traj)]\n",
    "    isb_traj_rotm = q.as_rotation_matrix(np.stack(isb_traj_quat, axis=0))\n",
    "    isb_hum_axis = -isb_traj_rotm[:, :, 1]\n",
    "    isb_x_traj = isb_hum_axis[:, 0]\n",
    "    isb_y_traj = isb_hum_axis[:, 1]\n",
    "    isb_z_traj = isb_hum_axis[:, 2]\n",
    "    return go.Scatter3d(name=\"yx'y''\", x=isb_x_traj, y=isb_y_traj, z=isb_z_traj, mode='lines',\n",
    "                        line=dict(color='brown', width=6))"
   ],
   "metadata": {
    "collapsed": false,
    "pycharm": {
     "name": "#%%\n"
    }
   }
  },
  {
   "cell_type": "code",
   "execution_count": null,
   "outputs": [],
   "source": [
    "def poe_elev_isb():\n",
    "    poe_rec = db_row[params.trajectory].euler.yxy_intrinsic[start_idx:end_idx, 0]\n",
    "    elev_rec = db_row[params.trajectory].euler.yxy_intrinsic[start_idx:end_idx, 1]\n",
    "    return poe_rec, elev_rec"
   ],
   "metadata": {
    "collapsed": false,
    "pycharm": {
     "name": "#%%\n"
    }
   }
  },
  {
   "cell_type": "code",
   "execution_count": null,
   "outputs": [],
   "source": [
    "def poe_elev_phadke():\n",
    "    poe_rec = db_row[params.trajectory].euler.xzy_intrinsic[start_idx:end_idx, 1]\n",
    "    elev_rec = db_row[params.trajectory].euler.xzy_intrinsic[start_idx:end_idx, 0]\n",
    "    return poe_rec, elev_rec"
   ],
   "metadata": {
    "collapsed": false,
    "pycharm": {
     "name": "#%%\n"
    }
   }
  },
  {
   "cell_type": "code",
   "execution_count": null,
   "outputs": [],
   "source": [
    "if 'isb' in params.decomp_method:\n",
    "    decomp_traj_fnc = decomp_line_isb\n",
    "    sphere_fnc = create_sphere_isb\n",
    "    poe_elev_fnc = poe_elev_isb\n",
    "elif 'phadke' in params.decomp_method:\n",
    "    decomp_traj_fnc = decomp_line_phadke\n",
    "    sphere_fnc = create_sphere_phadke\n",
    "    poe_elev_fnc = poe_elev_phadke\n",
    "else:\n",
    "    raise ValueError('Only ISB and Phadke comparisons have been implemented.')"
   ],
   "metadata": {
    "collapsed": false,
    "pycharm": {
     "name": "#%%\n"
    }
   }
  },
  {
   "cell_type": "code",
   "execution_count": null,
   "outputs": [],
   "source": [
    "start_idx = db_row['up_down_analysis'].max_run_up_start_idx\n",
    "end_idx = db_row['up_down_analysis'].max_run_up_end_idx\n",
    "\n",
    "# humerus axis is the y-axis, negate it because the y-axis points towards the humeral head center\n",
    "hum_axis_rec = -db_row[params.trajectory].rot_matrix[start_idx:end_idx, :, 1]\n",
    "x_traj_rec = hum_axis_rec[:, 0]\n",
    "y_traj_rec = hum_axis_rec[:, 1]\n",
    "z_traj_rec = hum_axis_rec[:, 2]\n",
    "\n",
    "poe_rec, elev_rec = poe_elev_fnc()\n",
    "elev_rec_deg = np.rad2deg(elev_rec)\n",
    "poe_rec_deg = np.rad2deg(poe_rec)\n",
    "\n",
    "if 'isb' in params.decomp_method:\n",
    "    # print difference from start of motion for isb\n",
    "    idx = np.linspace(start_idx, end_idx - 1, 11)\n",
    "    elev_prints = np.rad2deg(db_row['ht'].euler.yxy_intrinsic[idx.astype(int), 1])\n",
    "    poe_prints = poe_rec_deg[idx.astype(int)] - poe_rec_deg[0]\n",
    "    print(', '.join('{:.2f}: {:.2f}'.format(*t) for t in zip(elev_prints, poe_prints)))\n",
    "\n",
    "# line (as well as start and end point) for recorded humerus trajectory\n",
    "hover_text = ['Elev: {:.2f}, PoE: {:.2f}'.format(elev, poe) for (elev, poe) in zip(elev_rec_deg, poe_rec_deg)]\n",
    "rec_hum_line = go.Scatter3d(name='Actual Trajectory', x=x_traj_rec, y=y_traj_rec, z=z_traj_rec, mode='lines+markers',\n",
    "                            line=dict(color='blue', width=2), marker=dict(size=2), hovertext=hover_text,\n",
    "                            hoverinfo='text')\n",
    "rec_hum_start = go.Scatter3d(name='Start', x=[x_traj_rec[0]], y=[y_traj_rec[0]], z=[z_traj_rec[0]],\n",
    "                             marker=dict(size=4, color='green'), mode='markers', hoverinfo='text',\n",
    "                             hovertext=[hover_text[0]])\n",
    "rec_hum_end = go.Scatter3d(name='End', x=[x_traj_rec[-1]], y=[y_traj_rec[-1]], z=[z_traj_rec[-1]],\n",
    "                           marker=dict(size=4, color='red'), mode='markers', hoverinfo='text', hovertext=hover_text[-1])\n",
    "\n",
    "rec_traj = [rec_hum_start, rec_hum_end, rec_hum_line]"
   ],
   "metadata": {
    "collapsed": false,
    "pycharm": {
     "name": "#%%\n"
    }
   }
  },
  {
   "cell_type": "code",
   "execution_count": null,
   "metadata": {
    "pycharm": {
     "name": "#%%\n"
    }
   },
   "outputs": [],
   "source": [
    "axes = create_axes()\n",
    "sphere = sphere_fnc()\n",
    "decomp_traj = decomp_traj_fnc()\n",
    "\n",
    "layout = dict(\n",
    "    scene=dict(\n",
    "        camera_eye=dict(x=-1.5, y=0.75, z=0.5),\n",
    "        camera_up=dict(x=0, y=1, z=0),\n",
    "        aspectratio=dict(x=1, y=1, z=0.5),\n",
    "        xaxis=dict(showgrid=False, showbackground=False, zeroline=False, showticklabels=False, showspikes=False,\n",
    "                   visible=False),\n",
    "        yaxis=dict(showgrid=False, showbackground=False, zeroline=False, showticklabels=False, showspikes=False,\n",
    "                   visible=False),\n",
    "        zaxis=dict(showgrid=False, showbackground=False, zeroline=False, showticklabels=False, showspikes=False,\n",
    "                   visible=False)),\n",
    "    margin=dict(l=0, r=0, t=0, b=0),\n",
    "    showlegend=True,\n",
    "    legend=dict(itemsizing='constant')\n",
    ")\n",
    "fig = go.Figure(dict(data = sphere + axes + rec_traj + [decomp_traj], layout=layout))\n",
    "fig.show()"
   ]
  }
 ],
 "metadata": {
  "kernelspec": {
   "name": "true-vs-apparent-axial-rot",
   "language": "python",
   "display_name": "Python (true-vs-apparent-axial-rot)"
  },
  "language_info": {
   "codemirror_mode": {
    "name": "ipython",
    "version": 3
   },
   "file_extension": ".py",
   "mimetype": "text/x-python",
   "name": "python",
   "nbconvert_exporter": "python",
   "pygments_lexer": "ipython3",
   "version": "3.7.9"
  },
  "toc": {
   "base_numbering": 1,
   "nav_menu": {},
   "number_sections": true,
   "sideBar": true,
   "skip_h1_title": false,
   "title_cell": "Table of Contents",
   "title_sidebar": "Contents",
   "toc_cell": false,
   "toc_position": {},
   "toc_section_display": true,
   "toc_window_display": false
  },
  "varInspector": {
   "cols": {
    "lenName": 16,
    "lenType": 16,
    "lenVar": 40
   },
   "kernels_config": {
    "python": {
     "delete_cmd_postfix": "",
     "delete_cmd_prefix": "del ",
     "library": "var_list.py",
     "varRefreshCmd": "print(var_dic_list())"
    },
    "r": {
     "delete_cmd_postfix": ") ",
     "delete_cmd_prefix": "rm(",
     "library": "var_list.r",
     "varRefreshCmd": "cat(var_dic_list()) "
    }
   },
   "position": {
    "height": "399px",
    "left": "1551px",
    "right": "20px",
    "top": "119px",
    "width": "349px"
   },
   "types_to_exclude": [
    "module",
    "function",
    "builtin_function_or_method",
    "instance",
    "_Feature"
   ],
   "window_display": false
  }
 },
 "nbformat": 4,
 "nbformat_minor": 1
}